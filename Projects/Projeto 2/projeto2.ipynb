{
 "cells": [
  {
   "cell_type": "markdown",
   "metadata": {},
   "source": [
    "# Projeto RPA"
   ]
  },
  {
   "cell_type": "markdown",
   "metadata": {},
   "source": [
    "### Passo a Passo:\n",
    "- Buscar as informações automaticamente\n",
    "- Criar as análises solicitadas\n",
    "    - Cotação máxima, mínima e valor médio\n",
    "- Enviar um e-mail automaticamente"
   ]
  },
  {
   "cell_type": "code",
   "execution_count": 4,
   "metadata": {},
   "outputs": [
    {
     "name": "stdout",
     "output_type": "stream",
     "text": [
      "Requirement already satisfied: yfinance in c:\\users\\aline moura.desktop-hv6cd5d\\appdata\\local\\programs\\python\\python311\\lib\\site-packages (0.2.40)\n",
      "Requirement already satisfied: pyautogui in c:\\users\\aline moura.desktop-hv6cd5d\\appdata\\local\\programs\\python\\python311\\lib\\site-packages (0.9.54)\n",
      "Requirement already satisfied: pandas>=1.3.0 in c:\\users\\aline moura.desktop-hv6cd5d\\appdata\\local\\programs\\python\\python311\\lib\\site-packages (from yfinance) (2.2.2)\n",
      "Requirement already satisfied: numpy>=1.16.5 in c:\\users\\aline moura.desktop-hv6cd5d\\appdata\\local\\programs\\python\\python311\\lib\\site-packages (from yfinance) (1.26.4)\n",
      "Requirement already satisfied: requests>=2.31 in c:\\users\\aline moura.desktop-hv6cd5d\\appdata\\local\\programs\\python\\python311\\lib\\site-packages (from yfinance) (2.32.3)\n",
      "Requirement already satisfied: multitasking>=0.0.7 in c:\\users\\aline moura.desktop-hv6cd5d\\appdata\\local\\programs\\python\\python311\\lib\\site-packages (from yfinance) (0.0.11)\n",
      "Requirement already satisfied: lxml>=4.9.1 in c:\\users\\aline moura.desktop-hv6cd5d\\appdata\\local\\programs\\python\\python311\\lib\\site-packages (from yfinance) (5.2.2)\n",
      "Requirement already satisfied: platformdirs>=2.0.0 in c:\\users\\aline moura.desktop-hv6cd5d\\appdata\\roaming\\python\\python311\\site-packages (from yfinance) (4.2.2)\n",
      "Requirement already satisfied: pytz>=2022.5 in c:\\users\\aline moura.desktop-hv6cd5d\\appdata\\local\\programs\\python\\python311\\lib\\site-packages (from yfinance) (2024.1)\n",
      "Requirement already satisfied: frozendict>=2.3.4 in c:\\users\\aline moura.desktop-hv6cd5d\\appdata\\local\\programs\\python\\python311\\lib\\site-packages (from yfinance) (2.4.4)\n",
      "Requirement already satisfied: peewee>=3.16.2 in c:\\users\\aline moura.desktop-hv6cd5d\\appdata\\local\\programs\\python\\python311\\lib\\site-packages (from yfinance) (3.17.5)\n",
      "Requirement already satisfied: beautifulsoup4>=4.11.1 in c:\\users\\aline moura.desktop-hv6cd5d\\appdata\\local\\programs\\python\\python311\\lib\\site-packages (from yfinance) (4.12.3)\n",
      "Requirement already satisfied: html5lib>=1.1 in c:\\users\\aline moura.desktop-hv6cd5d\\appdata\\local\\programs\\python\\python311\\lib\\site-packages (from yfinance) (1.1)\n",
      "Requirement already satisfied: pymsgbox in c:\\users\\aline moura.desktop-hv6cd5d\\appdata\\local\\programs\\python\\python311\\lib\\site-packages (from pyautogui) (1.0.9)\n",
      "Requirement already satisfied: pytweening>=1.0.4 in c:\\users\\aline moura.desktop-hv6cd5d\\appdata\\local\\programs\\python\\python311\\lib\\site-packages (from pyautogui) (1.2.0)\n",
      "Requirement already satisfied: pyscreeze>=0.1.21 in c:\\users\\aline moura.desktop-hv6cd5d\\appdata\\local\\programs\\python\\python311\\lib\\site-packages (from pyautogui) (0.1.30)\n",
      "Requirement already satisfied: pygetwindow>=0.0.5 in c:\\users\\aline moura.desktop-hv6cd5d\\appdata\\local\\programs\\python\\python311\\lib\\site-packages (from pyautogui) (0.0.9)\n",
      "Requirement already satisfied: mouseinfo in c:\\users\\aline moura.desktop-hv6cd5d\\appdata\\local\\programs\\python\\python311\\lib\\site-packages (from pyautogui) (0.1.3)\n",
      "Requirement already satisfied: soupsieve>1.2 in c:\\users\\aline moura.desktop-hv6cd5d\\appdata\\local\\programs\\python\\python311\\lib\\site-packages (from beautifulsoup4>=4.11.1->yfinance) (2.5)\n",
      "Requirement already satisfied: six>=1.9 in c:\\users\\aline moura.desktop-hv6cd5d\\appdata\\roaming\\python\\python311\\site-packages (from html5lib>=1.1->yfinance) (1.16.0)\n",
      "Requirement already satisfied: webencodings in c:\\users\\aline moura.desktop-hv6cd5d\\appdata\\local\\programs\\python\\python311\\lib\\site-packages (from html5lib>=1.1->yfinance) (0.5.1)\n",
      "Requirement already satisfied: python-dateutil>=2.8.2 in c:\\users\\aline moura.desktop-hv6cd5d\\appdata\\roaming\\python\\python311\\site-packages (from pandas>=1.3.0->yfinance) (2.9.0.post0)\n",
      "Requirement already satisfied: tzdata>=2022.7 in c:\\users\\aline moura.desktop-hv6cd5d\\appdata\\local\\programs\\python\\python311\\lib\\site-packages (from pandas>=1.3.0->yfinance) (2024.1)\n",
      "Requirement already satisfied: pyrect in c:\\users\\aline moura.desktop-hv6cd5d\\appdata\\local\\programs\\python\\python311\\lib\\site-packages (from pygetwindow>=0.0.5->pyautogui) (0.2.0)\n",
      "Requirement already satisfied: Pillow>=9.3.0 in c:\\users\\aline moura.desktop-hv6cd5d\\appdata\\local\\programs\\python\\python311\\lib\\site-packages (from pyscreeze>=0.1.21->pyautogui) (10.3.0)\n",
      "Requirement already satisfied: charset-normalizer<4,>=2 in c:\\users\\aline moura.desktop-hv6cd5d\\appdata\\local\\programs\\python\\python311\\lib\\site-packages (from requests>=2.31->yfinance) (3.3.2)\n",
      "Requirement already satisfied: idna<4,>=2.5 in c:\\users\\aline moura.desktop-hv6cd5d\\appdata\\local\\programs\\python\\python311\\lib\\site-packages (from requests>=2.31->yfinance) (3.7)\n",
      "Requirement already satisfied: urllib3<3,>=1.21.1 in c:\\users\\aline moura.desktop-hv6cd5d\\appdata\\local\\programs\\python\\python311\\lib\\site-packages (from requests>=2.31->yfinance) (2.2.1)\n",
      "Requirement already satisfied: certifi>=2017.4.17 in c:\\users\\aline moura.desktop-hv6cd5d\\appdata\\local\\programs\\python\\python311\\lib\\site-packages (from requests>=2.31->yfinance) (2024.6.2)\n",
      "Requirement already satisfied: pyperclip in c:\\users\\aline moura.desktop-hv6cd5d\\appdata\\local\\programs\\python\\python311\\lib\\site-packages (from mouseinfo->pyautogui) (1.8.2)\n",
      "Note: you may need to restart the kernel to use updated packages.\n"
     ]
    }
   ],
   "source": [
    "%pip install yfinance pyautogui"
   ]
  },
  {
   "cell_type": "code",
   "execution_count": 5,
   "metadata": {},
   "outputs": [],
   "source": [
    "import yfinance as yf"
   ]
  },
  {
   "cell_type": "code",
   "execution_count": 6,
   "metadata": {},
   "outputs": [
    {
     "data": {
      "text/plain": [
       "Date\n",
       "2023-01-02 00:00:00-03:00    16.502495\n",
       "2023-01-03 00:00:00-03:00    16.084892\n",
       "2023-01-04 00:00:00-03:00    16.596094\n",
       "2023-01-05 00:00:00-03:00    17.193699\n",
       "2023-01-06 00:00:00-03:00    17.092899\n",
       "                               ...    \n",
       "2023-12-21 00:00:00-03:00    33.925335\n",
       "2023-12-22 00:00:00-03:00    34.251629\n",
       "2023-12-26 00:00:00-03:00    34.801666\n",
       "2023-12-27 00:00:00-03:00    34.829636\n",
       "2023-12-28 00:00:00-03:00    34.717762\n",
       "Name: Close, Length: 248, dtype: float64"
      ]
     },
     "execution_count": 6,
     "metadata": {},
     "output_type": "execute_result"
    }
   ],
   "source": [
    "codigo = input('Digite o código: ')\n",
    "dados = yf.Ticker(codigo).history(start='2023-01-01', end='2023-12-31')\n",
    "fechamento = dados.Close\n",
    "fechamento"
   ]
  },
  {
   "cell_type": "code",
   "execution_count": 7,
   "metadata": {},
   "outputs": [
    {
     "name": "stdout",
     "output_type": "stream",
     "text": [
      "34.83\n",
      "16.08\n",
      "24.86\n"
     ]
    }
   ],
   "source": [
    "maxima = round(fechamento.max(), 2)\n",
    "minima = round(fechamento.min(), 2)\n",
    "valor_medio = round(fechamento.mean(), 2)\n",
    "\n",
    "print(maxima)\n",
    "print(minima)\n",
    "print(valor_medio)"
   ]
  },
  {
   "cell_type": "markdown",
   "metadata": {},
   "source": [
    "#### Enviar o e-mail automaticamente\n",
    "- abrir o navegador e ir para o gmail\n",
    "- clicar no botão Escrever\n",
    "- Digitar o email do destinatário e apertar TAB\n",
    "- Digitar o assunto e apertar TAB novamente\n",
    "- Digitar a mensagem\n",
    "- Clicar no botão Enviar\n",
    "\n",
    "Bibliotecas: `PyAutoGUI`, `pyperclip` e `webbrowser`"
   ]
  },
  {
   "cell_type": "code",
   "execution_count": 8,
   "metadata": {},
   "outputs": [],
   "source": [
    "import pyautogui as gui\n",
    "import pyperclip as clip\n",
    "import webbrowser\n",
    "from time import sleep"
   ]
  },
  {
   "cell_type": "code",
   "execution_count": 11,
   "metadata": {},
   "outputs": [
    {
     "ename": "KeyboardInterrupt",
     "evalue": "",
     "output_type": "error",
     "traceback": [
      "\u001b[1;31m---------------------------------------------------------------------------\u001b[0m",
      "\u001b[1;31mKeyboardInterrupt\u001b[0m                         Traceback (most recent call last)",
      "Cell \u001b[1;32mIn[11], line 24\u001b[0m\n\u001b[0;32m     20\u001b[0m gui\u001b[38;5;241m.\u001b[39mwrite(\u001b[38;5;124m'\u001b[39m\u001b[38;5;124mchrome\u001b[39m\u001b[38;5;124m'\u001b[39m)\n\u001b[0;32m     21\u001b[0m gui\u001b[38;5;241m.\u001b[39mpress(\u001b[38;5;124m'\u001b[39m\u001b[38;5;124menter\u001b[39m\u001b[38;5;124m'\u001b[39m)\n\u001b[1;32m---> 24\u001b[0m \u001b[43mgui\u001b[49m\u001b[38;5;241;43m.\u001b[39;49m\u001b[43mclick\u001b[49m\u001b[43m(\u001b[49m\u001b[43mx\u001b[49m\u001b[38;5;241;43m=\u001b[39;49m\u001b[38;5;241;43m79\u001b[39;49m\u001b[43m,\u001b[49m\u001b[43m \u001b[49m\u001b[43my\u001b[49m\u001b[38;5;241;43m=\u001b[39;49m\u001b[38;5;241;43m178\u001b[39;49m\u001b[43m)\u001b[49m\n\u001b[0;32m     25\u001b[0m clip\u001b[38;5;241m.\u001b[39mcopy(destinatario)\n\u001b[0;32m     26\u001b[0m gui\u001b[38;5;241m.\u001b[39mhotkey(\u001b[38;5;124m'\u001b[39m\u001b[38;5;124mctrl\u001b[39m\u001b[38;5;124m'\u001b[39m, \u001b[38;5;124m'\u001b[39m\u001b[38;5;124mv\u001b[39m\u001b[38;5;124m'\u001b[39m)\n",
      "File \u001b[1;32mc:\\Users\\Aline Moura.DESKTOP-HV6CD5D\\AppData\\Local\\Programs\\Python\\Python311\\Lib\\site-packages\\pyautogui\\__init__.py:595\u001b[0m, in \u001b[0;36m_genericPyAutoGUIChecks.<locals>.wrapper\u001b[1;34m(*args, **kwargs)\u001b[0m\n\u001b[0;32m    593\u001b[0m failSafeCheck()\n\u001b[0;32m    594\u001b[0m returnVal \u001b[38;5;241m=\u001b[39m wrappedFunction(\u001b[38;5;241m*\u001b[39margs, \u001b[38;5;241m*\u001b[39m\u001b[38;5;241m*\u001b[39mkwargs)\n\u001b[1;32m--> 595\u001b[0m \u001b[43m_handlePause\u001b[49m\u001b[43m(\u001b[49m\u001b[43mkwargs\u001b[49m\u001b[38;5;241;43m.\u001b[39;49m\u001b[43mget\u001b[49m\u001b[43m(\u001b[49m\u001b[38;5;124;43m\"\u001b[39;49m\u001b[38;5;124;43m_pause\u001b[39;49m\u001b[38;5;124;43m\"\u001b[39;49m\u001b[43m,\u001b[49m\u001b[43m \u001b[49m\u001b[38;5;28;43;01mTrue\u001b[39;49;00m\u001b[43m)\u001b[49m\u001b[43m)\u001b[49m\n\u001b[0;32m    596\u001b[0m \u001b[38;5;28;01mreturn\u001b[39;00m returnVal\n",
      "File \u001b[1;32mc:\\Users\\Aline Moura.DESKTOP-HV6CD5D\\AppData\\Local\\Programs\\Python\\Python311\\Lib\\site-packages\\pyautogui\\__init__.py:639\u001b[0m, in \u001b[0;36m_handlePause\u001b[1;34m(_pause)\u001b[0m\n\u001b[0;32m    637\u001b[0m \u001b[38;5;28;01mif\u001b[39;00m _pause:\n\u001b[0;32m    638\u001b[0m     \u001b[38;5;28;01massert\u001b[39;00m \u001b[38;5;28misinstance\u001b[39m(PAUSE, \u001b[38;5;28mint\u001b[39m) \u001b[38;5;129;01mor\u001b[39;00m \u001b[38;5;28misinstance\u001b[39m(PAUSE, \u001b[38;5;28mfloat\u001b[39m)\n\u001b[1;32m--> 639\u001b[0m     time\u001b[38;5;241m.\u001b[39msleep(PAUSE)\n",
      "\u001b[1;31mKeyboardInterrupt\u001b[0m: "
     ]
    }
   ],
   "source": [
    "destinatario = 'yurifs9118'\n",
    "assunto = 'Análises do Projeto 2023'\n",
    "mensagem = f'''\n",
    "Prezado gestor,\n",
    "\n",
    "Seguem as análises solicitadas da ação {codigo}:\n",
    "\n",
    "Cotação máxima: R${maxima}\n",
    "Cotação mínima: R${minima}\n",
    "Valor médio: R${valor_medio}\n",
    "\n",
    "Qualquer dúvida, estou a disposição!\n",
    "\n",
    "Atte.\n",
    "'''\n",
    "\n",
    "gui.PAUSE = 20\n",
    "\n",
    "gui.press('win')\n",
    "gui.write('chrome')\n",
    "gui.press('enter')\n",
    "sleep(60)\n",
    "\n",
    "gui.click(x=79, y=178)\n",
    "clip.copy(destinatario)\n",
    "gui.hotkey('ctrl', 'v')\n",
    "gui.hotkey('tab')\n",
    "gui.hotkey('tab')\n",
    "clip.copy(assunto)\n",
    "gui.hotkey('ctrl', 'v')\n",
    "gui.hotkey('tab')\n",
    "clip.copy(mensagem)\n",
    "gui.hotkey('ctrl', 'v')\n",
    "gui.click(x=841, y=677)"
   ]
  }
 ],
 "metadata": {
  "kernelspec": {
   "display_name": ".venv",
   "language": "python",
   "name": "python3"
  },
  "language_info": {
   "codemirror_mode": {
    "name": "ipython",
    "version": 3
   },
   "file_extension": ".py",
   "mimetype": "text/x-python",
   "name": "python",
   "nbconvert_exporter": "python",
   "pygments_lexer": "ipython3",
   "version": "3.11.9"
  }
 },
 "nbformat": 4,
 "nbformat_minor": 2
}
