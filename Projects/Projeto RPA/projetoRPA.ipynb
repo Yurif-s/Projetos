{
 "cells": [
  {
   "cell_type": "markdown",
   "metadata": {},
   "source": [
    "# Projeto RPA"
   ]
  },
  {
   "cell_type": "markdown",
   "metadata": {},
   "source": [
    "### Passo a Passo:\n",
    "- Buscar as informações automaticamente\n",
    "- Criar as análises solicitadas\n",
    "    - Cotação máxima, mínima e valor médio\n",
    "- Enviar um e-mail automaticamente"
   ]
  },
  {
   "cell_type": "code",
   "execution_count": 1,
   "metadata": {},
   "outputs": [
    {
     "name": "stdout",
     "output_type": "stream",
     "text": [
      "Collecting yfinanceNote: you may need to restart the kernel to use updated packages.\n",
      "\n",
      "  Downloading yfinance-0.2.40-py2.py3-none-any.whl (73 kB)\n",
      "Collecting pyautogui\n",
      "  Downloading PyAutoGUI-0.9.54.tar.gz (61 kB)\n",
      "  Installing build dependencies: started\n",
      "  Installing build dependencies: finished with status 'done'\n",
      "  Getting requirements to build wheel: started\n",
      "  Getting requirements to build wheel: finished with status 'done'\n",
      "    Preparing wheel metadata: started\n",
      "    Preparing wheel metadata: finished with status 'done'\n",
      "Collecting requests>=2.31\n",
      "  Downloading requests-2.31.0-py3-none-any.whl (62 kB)\n",
      "Collecting platformdirs>=2.0.0\n",
      "  Downloading platformdirs-4.0.0-py3-none-any.whl (17 kB)\n",
      "Collecting pandas>=1.3.0\n",
      "  Downloading pandas-1.3.5-cp37-cp37m-win_amd64.whl (10.0 MB)\n",
      "Collecting frozendict>=2.3.4\n",
      "  Downloading frozendict-2.4.4-cp37-cp37m-win_amd64.whl (37 kB)\n",
      "Collecting peewee>=3.16.2\n",
      "  Downloading peewee-3.17.5.tar.gz (3.0 MB)\n",
      "  Installing build dependencies: started\n",
      "  Installing build dependencies: finished with status 'done'\n",
      "  Getting requirements to build wheel: started\n",
      "  Getting requirements to build wheel: finished with status 'done'\n",
      "    Preparing wheel metadata: started\n",
      "    Preparing wheel metadata: finished with status 'done'\n",
      "Collecting numpy>=1.16.5\n",
      "  Downloading numpy-1.21.6-cp37-cp37m-win_amd64.whl (14.0 MB)\n",
      "Collecting beautifulsoup4>=4.11.1\n",
      "  Downloading beautifulsoup4-4.12.3-py3-none-any.whl (147 kB)\n",
      "Collecting lxml>=4.9.1\n",
      "  Downloading lxml-5.2.2-cp37-cp37m-win_amd64.whl (3.8 MB)\n",
      "Collecting html5lib>=1.1\n",
      "  Downloading html5lib-1.1-py2.py3-none-any.whl (112 kB)\n",
      "Collecting pytz>=2022.5\n",
      "  Downloading pytz-2024.1-py2.py3-none-any.whl (505 kB)\n",
      "Collecting multitasking>=0.0.7\n",
      "  Downloading multitasking-0.0.11-py3-none-any.whl (8.5 kB)\n",
      "Collecting pytweening>=1.0.4\n",
      "  Downloading pytweening-1.2.0.tar.gz (171 kB)\n",
      "Collecting pymsgbox\n",
      "  Downloading PyMsgBox-1.0.9.tar.gz (18 kB)\n",
      "  Installing build dependencies: started\n",
      "  Installing build dependencies: finished with status 'done'\n",
      "  Getting requirements to build wheel: started\n",
      "  Getting requirements to build wheel: finished with status 'done'\n",
      "    Preparing wheel metadata: started\n",
      "    Preparing wheel metadata: finished with status 'done'\n",
      "Collecting pyscreeze>=0.1.21\n",
      "  Downloading PyScreeze-0.1.30.tar.gz (27 kB)\n",
      "  Installing build dependencies: started\n",
      "  Installing build dependencies: finished with status 'done'\n",
      "  Getting requirements to build wheel: started\n",
      "  Getting requirements to build wheel: finished with status 'done'\n",
      "    Preparing wheel metadata: started\n",
      "    Preparing wheel metadata: finished with status 'done'\n",
      "Collecting pygetwindow>=0.0.5\n",
      "  Downloading PyGetWindow-0.0.9.tar.gz (9.7 kB)\n",
      "Collecting mouseinfo\n",
      "  Downloading MouseInfo-0.1.3.tar.gz (10 kB)\n",
      "Collecting charset-normalizer<4,>=2\n",
      "  Downloading charset_normalizer-3.3.2-cp37-cp37m-win_amd64.whl (98 kB)\n",
      "Collecting urllib3<3,>=1.21.1\n",
      "  Downloading urllib3-2.0.7-py3-none-any.whl (124 kB)\n",
      "Collecting idna<4,>=2.5\n",
      "  Downloading idna-3.7-py3-none-any.whl (66 kB)\n",
      "Collecting certifi>=2017.4.17\n",
      "  Downloading certifi-2024.6.2-py3-none-any.whl (164 kB)\n",
      "Collecting typing-extensions>=4.7.1; python_version < \"3.8\"\n",
      "  Downloading typing_extensions-4.7.1-py3-none-any.whl (33 kB)\n",
      "Requirement already satisfied: python-dateutil>=2.7.3 in c:\\users\\aline moura\\projetorpa\\projetos\\venv\\lib\\site-packages (from pandas>=1.3.0->yfinance) (2.9.0.post0)\n",
      "Collecting soupsieve>1.2\n",
      "  Downloading soupsieve-2.4.1-py3-none-any.whl (36 kB)\n",
      "Collecting webencodings\n",
      "  Downloading webencodings-0.5.1-py2.py3-none-any.whl (11 kB)\n",
      "Requirement already satisfied: six>=1.9 in c:\\users\\aline moura\\projetorpa\\projetos\\venv\\lib\\site-packages (from html5lib>=1.1->yfinance) (1.16.0)\n",
      "Collecting Pillow>=9.2.0; python_version == \"3.7\"\n",
      "  Downloading Pillow-9.5.0-cp37-cp37m-win_amd64.whl (2.5 MB)\n",
      "Collecting pyrect\n",
      "  Downloading PyRect-0.2.0.tar.gz (17 kB)\n",
      "Collecting pyperclip\n",
      "  Downloading pyperclip-1.8.2.tar.gz (20 kB)\n",
      "Using legacy setup.py install for pytweening, since package 'wheel' is not installed.\n",
      "Using legacy setup.py install for pygetwindow, since package 'wheel' is not installed.\n",
      "Using legacy setup.py install for mouseinfo, since package 'wheel' is not installed.\n",
      "Using legacy setup.py install for pyrect, since package 'wheel' is not installed.\n",
      "Using legacy setup.py install for pyperclip, since package 'wheel' is not installed.\n",
      "Building wheels for collected packages: pyautogui, peewee, pymsgbox, pyscreeze\n",
      "  Building wheel for pyautogui (PEP 517): started\n",
      "  Building wheel for pyautogui (PEP 517): finished with status 'done'\n",
      "  Created wheel for pyautogui: filename=PyAutoGUI-0.9.54-py3-none-any.whl size=37597 sha256=7cdb15fea0153e226d58446fa9a0b0b0c647ba9526f7cb487fb57be7a1cd79c7\n",
      "  Stored in directory: c:\\users\\aline moura\\appdata\\local\\pip\\cache\\wheels\\ae\\77\\f1\\c71436322c6e5e634523ea92f7e64ffbca2f1851b08d126193\n",
      "  Building wheel for peewee (PEP 517): started\n",
      "  Building wheel for peewee (PEP 517): finished with status 'done'\n",
      "  Created wheel for peewee: filename=peewee-3.17.5-py3-none-any.whl size=138680 sha256=2c460ecba61e8dd3ba801f8951b6a582c00b96d06cf32d3405fbb487d404812e\n",
      "  Stored in directory: c:\\users\\aline moura\\appdata\\local\\pip\\cache\\wheels\\f7\\47\\5a\\f60cfd4dd60dad2a4f66a9fabe98dc0b97d82f7112846dbb21\n",
      "  Building wheel for pymsgbox (PEP 517): started\n",
      "  Building wheel for pymsgbox (PEP 517): finished with status 'done'\n",
      "  Created wheel for pymsgbox: filename=PyMsgBox-1.0.9-py3-none-any.whl size=7416 sha256=c09b35880bf3bf2c95389ed96cd0ebc8dcc86a690a0e6cebeee5bb7aaed02abc\n",
      "  Stored in directory: c:\\users\\aline moura\\appdata\\local\\pip\\cache\\wheels\\39\\eb\\0e\\1587e06da34adf675ad26a113da25df542991f5095303374ef\n",
      "  Building wheel for pyscreeze (PEP 517): started\n",
      "  Building wheel for pyscreeze (PEP 517): finished with status 'done'\n",
      "  Created wheel for pyscreeze: filename=PyScreeze-0.1.30-py3-none-any.whl size=14400 sha256=ed8306b2b120edcef5010be1648f7f779766e5977941dbffe2916fefa9ba013e\n",
      "  Stored in directory: c:\\users\\aline moura\\appdata\\local\\pip\\cache\\wheels\\46\\65\\8e\\1bd99740d36f2f86ec3d6b6b0f6db77d1715c4c66c1712215b\n",
      "Successfully built pyautogui peewee pymsgbox pyscreeze\n",
      "Installing collected packages: charset-normalizer, urllib3, idna, certifi, requests, typing-extensions, platformdirs, pytz, numpy, pandas, frozendict, peewee, soupsieve, beautifulsoup4, lxml, webencodings, html5lib, multitasking, yfinance, pytweening, pymsgbox, Pillow, pyscreeze, pyrect, pygetwindow, pyperclip, mouseinfo, pyautogui\n",
      "    Running setup.py install for pytweening: started\n",
      "    Running setup.py install for pytweening: finished with status 'done'\n",
      "    Running setup.py install for pyrect: started\n",
      "    Running setup.py install for pyrect: finished with status 'done'\n",
      "    Running setup.py install for pygetwindow: started\n",
      "    Running setup.py install for pygetwindow: finished with status 'done'\n",
      "    Running setup.py install for pyperclip: started\n",
      "    Running setup.py install for pyperclip: finished with status 'done'\n",
      "    Running setup.py install for mouseinfo: started\n",
      "    Running setup.py install for mouseinfo: finished with status 'done'\n",
      "Successfully installed Pillow-9.5.0 beautifulsoup4-4.12.3 certifi-2024.6.2 charset-normalizer-3.3.2 frozendict-2.4.4 html5lib-1.1 idna-3.7 lxml-5.2.2 mouseinfo-0.1.3 multitasking-0.0.11 numpy-1.21.6 pandas-1.3.5 peewee-3.17.5 platformdirs-4.0.0 pyautogui-0.9.54 pygetwindow-0.0.9 pymsgbox-1.0.9 pyperclip-1.8.2 pyrect-0.2.0 pyscreeze-0.1.30 pytweening-1.2.0 pytz-2024.1 requests-2.31.0 soupsieve-2.4.1 typing-extensions-4.7.1 urllib3-2.0.7 webencodings-0.5.1 yfinance-0.2.40\n"
     ]
    },
    {
     "name": "stderr",
     "output_type": "stream",
     "text": [
      "WARNING: You are using pip version 20.1.1; however, version 24.0 is available.\n",
      "You should consider upgrading via the 'c:\\Users\\Aline Moura\\ProjetoRPA\\Projetos\\venv\\Scripts\\python.exe -m pip install --upgrade pip' command.\n"
     ]
    }
   ],
   "source": [
    "%pip install yfinance pyautogui"
   ]
  },
  {
   "cell_type": "markdown",
   "metadata": {},
   "source": [
    "- Buscar as informações automaticamente\n",
    "    - Saber de qual ação retiraremos os dados\n",
    "    - Pegar esses dados\n",
    "        - Apenas os dados de fechamento\n"
   ]
  },
  {
   "cell_type": "code",
   "execution_count": 2,
   "metadata": {},
   "outputs": [],
   "source": [
    "import yfinance as yf"
   ]
  },
  {
   "cell_type": "code",
   "execution_count": 3,
   "metadata": {},
   "outputs": [
    {
     "data": {
      "text/plain": [
       "Date\n",
       "2023-01-02 00:00:00-03:00    16.502495\n",
       "2023-01-03 00:00:00-03:00    16.084892\n",
       "2023-01-04 00:00:00-03:00    16.596096\n",
       "2023-01-05 00:00:00-03:00    17.193699\n",
       "2023-01-06 00:00:00-03:00    17.092897\n",
       "                               ...    \n",
       "2023-12-21 00:00:00-03:00    33.925335\n",
       "2023-12-22 00:00:00-03:00    34.251629\n",
       "2023-12-26 00:00:00-03:00    34.801666\n",
       "2023-12-27 00:00:00-03:00    34.829636\n",
       "2023-12-28 00:00:00-03:00    34.717762\n",
       "Name: Close, Length: 248, dtype: float64"
      ]
     },
     "execution_count": 3,
     "metadata": {},
     "output_type": "execute_result"
    }
   ],
   "source": [
    "codigo = input('Digite o código: ')\n",
    "dados = yf.Ticker(codigo).history(start='2023-01-01', end='2023-12-31')\n",
    "fechamento = dados.Close\n",
    "fechamento"
   ]
  },
  {
   "cell_type": "markdown",
   "metadata": {},
   "source": [
    "- Criar as ações solicitadas\n",
    "    - Cotação máxima\n",
    "    - Cotação mínima\n",
    "    - Valor médio"
   ]
  },
  {
   "cell_type": "code",
   "execution_count": 4,
   "metadata": {},
   "outputs": [
    {
     "name": "stdout",
     "output_type": "stream",
     "text": [
      "34.83\n",
      "16.08\n",
      "24.86\n"
     ]
    }
   ],
   "source": [
    "maxima = round(fechamento.max(), 2)\n",
    "minima = round(fechamento.min(), 2)\n",
    "valor_medio = round(fechamento.mean(), 2)\n",
    "\n",
    "print(maxima)\n",
    "print(minima)\n",
    "print(valor_medio)"
   ]
  },
  {
   "cell_type": "markdown",
   "metadata": {},
   "source": [
    "#### Enviar o e-mail automaticamente\n",
    "- abrir o navegador e ir para o gmail\n",
    "- clicar no botão Escrever\n",
    "- Digitar o email do destinatário e apertar TAB\n",
    "- Digitar o assunto e apertar TAB novamente\n",
    "- Digitar a mensagem\n",
    "- Clicar no botão Enviar\n",
    "\n",
    "Bibliotecas: `PyAutoGUI`, `pyperclip` e `webbrowser`"
   ]
  },
  {
   "cell_type": "code",
   "execution_count": 5,
   "metadata": {},
   "outputs": [],
   "source": [
    "import pyautogui as gui\n",
    "import pyperclip as clip\n",
    "import webbrowser\n",
    "from time import sleep"
   ]
  },
  {
   "cell_type": "code",
   "execution_count": 12,
   "metadata": {},
   "outputs": [],
   "source": [
    "destinatario = 'yurifs9118@gmail.com'\n",
    "assunto = 'Análises do Projeto 2023'\n",
    "mensagem = f'''\n",
    "Prezado gestor,\n",
    "\n",
    "Seguem as análises solicitadas da ação {codigo}:\n",
    "\n",
    "Cotação máxima: R${maxima}\n",
    "Cotação mínima: R${minima}\n",
    "Valor médio: R${valor_medio}\n",
    "\n",
    "Qualquer dúvida, estou a disposição!\n",
    "\n",
    "Atte.\n",
    "'''\n",
    "\n",
    "gui.PAUSE = 3\n",
    "\n",
    "webbrowser.open('www.gmail.com')\n",
    "sleep(4)\n",
    "\n",
    "gui.click(x=79, y=178)\n",
    "clip.copy(destinatario)\n",
    "gui.hotkey('ctrl', 'v')\n",
    "gui.hotkey('tab')\n",
    "clip.copy(assunto)\n",
    "gui.hotkey('ctrl', 'v')\n",
    "gui.hotkey('tab')\n",
    "clip.copy(mensagem)\n",
    "gui.hotkey('ctrl', 'v')\n",
    "gui.click(x=849, y=697)"
   ]
  },
  {
   "cell_type": "markdown",
   "metadata": {},
   "source": [
    "### Código auxiliar para pegar a posição do mouse"
   ]
  },
  {
   "cell_type": "code",
   "execution_count": 11,
   "metadata": {},
   "outputs": [
    {
     "data": {
      "text/plain": [
       "Point(x=849, y=697)"
      ]
     },
     "execution_count": 11,
     "metadata": {},
     "output_type": "execute_result"
    }
   ],
   "source": [
    "sleep(3)\n",
    "gui.position()"
   ]
  }
 ],
 "metadata": {
  "kernelspec": {
   "display_name": ".venv",
   "language": "python",
   "name": "python3"
  },
  "language_info": {
   "codemirror_mode": {
    "name": "ipython",
    "version": 3
   },
   "file_extension": ".py",
   "mimetype": "text/x-python",
   "name": "python",
   "nbconvert_exporter": "python",
   "pygments_lexer": "ipython3",
   "version": "3.7.9"
  }
 },
 "nbformat": 4,
 "nbformat_minor": 2
}
