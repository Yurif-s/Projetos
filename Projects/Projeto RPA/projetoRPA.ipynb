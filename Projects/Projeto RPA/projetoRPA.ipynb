{
 "cells": [
  {
   "cell_type": "markdown",
   "metadata": {},
   "source": [
    "# Projeto RPA"
   ]
  },
  {
   "cell_type": "markdown",
   "metadata": {},
   "source": [
    "### Passo a Passo:\n",
    "- Buscar as informações automaticamente\n",
    "- Criar as análises solicitadas\n",
    "    - Cotação máxima, mínima e valor médio\n",
    "- Enviar um e-mail automaticamente"
   ]
  },
  {
   "cell_type": "code",
   "execution_count": 1,
   "metadata": {},
   "outputs": [
    {
     "name": "stdout",
     "output_type": "stream",
     "text": [
      "Collecting yfinanceNote: you may need to restart the kernel to use updated packages.\n",
      "\n",
      "  Using cached yfinance-0.2.40-py2.py3-none-any.whl.metadata (11 kB)\n",
      "Collecting pyautogui\n",
      "  Using cached PyAutoGUI-0.9.54-py3-none-any.whl\n",
      "Collecting pandas>=1.3.0 (from yfinance)\n",
      "  Downloading pandas-1.3.5-cp37-cp37m-win_amd64.whl.metadata (12 kB)\n",
      "Collecting numpy>=1.16.5 (from yfinance)\n",
      "  Downloading numpy-1.21.6-cp37-cp37m-win_amd64.whl.metadata (2.2 kB)\n",
      "Collecting requests>=2.31 (from yfinance)\n",
      "  Downloading requests-2.31.0-py3-none-any.whl.metadata (4.6 kB)\n",
      "Collecting multitasking>=0.0.7 (from yfinance)\n",
      "  Downloading multitasking-0.0.11-py3-none-any.whl.metadata (5.5 kB)\n",
      "Collecting lxml>=4.9.1 (from yfinance)\n",
      "  Downloading lxml-5.2.2-cp37-cp37m-win_amd64.whl.metadata (3.5 kB)\n",
      "Collecting platformdirs>=2.0.0 (from yfinance)\n",
      "  Downloading platformdirs-4.0.0-py3-none-any.whl.metadata (11 kB)\n",
      "Collecting pytz>=2022.5 (from yfinance)\n",
      "  Downloading pytz-2024.1-py2.py3-none-any.whl.metadata (22 kB)\n",
      "Collecting frozendict>=2.3.4 (from yfinance)\n",
      "  Downloading frozendict-2.4.4-cp37-cp37m-win_amd64.whl.metadata (23 kB)\n",
      "Collecting peewee>=3.16.2 (from yfinance)\n",
      "  Using cached peewee-3.17.5-py3-none-any.whl\n",
      "Collecting beautifulsoup4>=4.11.1 (from yfinance)\n",
      "  Downloading beautifulsoup4-4.12.3-py3-none-any.whl.metadata (3.8 kB)\n",
      "Collecting html5lib>=1.1 (from yfinance)\n",
      "  Downloading html5lib-1.1-py2.py3-none-any.whl.metadata (16 kB)\n",
      "Collecting pymsgbox (from pyautogui)\n",
      "  Using cached PyMsgBox-1.0.9-py3-none-any.whl\n",
      "Collecting pytweening>=1.0.4 (from pyautogui)\n",
      "  Downloading pytweening-1.2.0.tar.gz (171 kB)\n",
      "     ------------------------------------ 171.2/171.2 kB 219.0 kB/s eta 0:00:00\n",
      "  Installing build dependencies: started\n",
      "  Installing build dependencies: finished with status 'done'\n",
      "  Getting requirements to build wheel: started\n",
      "  Getting requirements to build wheel: finished with status 'done'\n",
      "  Installing backend dependencies: started\n",
      "  Installing backend dependencies: finished with status 'done'\n",
      "  Preparing metadata (pyproject.toml): started\n",
      "  Preparing metadata (pyproject.toml): finished with status 'done'\n",
      "Collecting pyscreeze>=0.1.21 (from pyautogui)\n",
      "  Using cached PyScreeze-0.1.30-py3-none-any.whl\n",
      "Collecting pygetwindow>=0.0.5 (from pyautogui)\n",
      "  Downloading PyGetWindow-0.0.9.tar.gz (9.7 kB)\n",
      "  Installing build dependencies: started\n",
      "  Installing build dependencies: finished with status 'done'\n",
      "  Getting requirements to build wheel: started\n",
      "  Getting requirements to build wheel: finished with status 'done'\n",
      "  Installing backend dependencies: started\n",
      "  Installing backend dependencies: finished with status 'done'\n",
      "  Preparing metadata (pyproject.toml): started\n",
      "  Preparing metadata (pyproject.toml): finished with status 'done'\n",
      "Collecting mouseinfo (from pyautogui)\n",
      "  Downloading MouseInfo-0.1.3.tar.gz (10 kB)\n",
      "  Installing build dependencies: started\n",
      "  Installing build dependencies: finished with status 'done'\n",
      "  Getting requirements to build wheel: started\n",
      "  Getting requirements to build wheel: finished with status 'done'\n",
      "  Installing backend dependencies: started\n",
      "  Installing backend dependencies: finished with status 'done'\n",
      "  Preparing metadata (pyproject.toml): started\n",
      "  Preparing metadata (pyproject.toml): finished with status 'done'\n",
      "Collecting soupsieve>1.2 (from beautifulsoup4>=4.11.1->yfinance)\n",
      "  Downloading soupsieve-2.4.1-py3-none-any.whl.metadata (4.7 kB)\n",
      "Requirement already satisfied: six>=1.9 in c:\\users\\aline moura\\projetorpa\\projetos\\venv\\lib\\site-packages (from html5lib>=1.1->yfinance) (1.16.0)\n",
      "Collecting webencodings (from html5lib>=1.1->yfinance)\n",
      "  Downloading webencodings-0.5.1-py2.py3-none-any.whl.metadata (2.1 kB)\n",
      "Requirement already satisfied: python-dateutil>=2.7.3 in c:\\users\\aline moura\\projetorpa\\projetos\\venv\\lib\\site-packages (from pandas>=1.3.0->yfinance) (2.9.0.post0)\n",
      "Collecting typing-extensions>=4.7.1 (from platformdirs>=2.0.0->yfinance)\n",
      "  Downloading typing_extensions-4.7.1-py3-none-any.whl.metadata (3.1 kB)\n",
      "Collecting pyrect (from pygetwindow>=0.0.5->pyautogui)\n",
      "  Downloading PyRect-0.2.0.tar.gz (17 kB)\n",
      "  Installing build dependencies: started\n",
      "  Installing build dependencies: finished with status 'done'\n",
      "  Getting requirements to build wheel: started\n",
      "  Getting requirements to build wheel: finished with status 'done'\n",
      "  Installing backend dependencies: started\n",
      "  Installing backend dependencies: finished with status 'done'\n",
      "  Preparing metadata (pyproject.toml): started\n",
      "  Preparing metadata (pyproject.toml): finished with status 'done'\n",
      "Collecting Pillow>=9.2.0 (from pyscreeze>=0.1.21->pyautogui)\n",
      "  Downloading Pillow-9.5.0-cp37-cp37m-win_amd64.whl.metadata (9.7 kB)\n",
      "Collecting charset-normalizer<4,>=2 (from requests>=2.31->yfinance)\n",
      "  Downloading charset_normalizer-3.3.2-cp37-cp37m-win_amd64.whl.metadata (34 kB)\n",
      "Collecting idna<4,>=2.5 (from requests>=2.31->yfinance)\n",
      "  Downloading idna-3.7-py3-none-any.whl.metadata (9.9 kB)\n",
      "Collecting urllib3<3,>=1.21.1 (from requests>=2.31->yfinance)\n",
      "  Downloading urllib3-2.0.7-py3-none-any.whl.metadata (6.6 kB)\n",
      "Collecting certifi>=2017.4.17 (from requests>=2.31->yfinance)\n",
      "  Downloading certifi-2024.6.2-py3-none-any.whl.metadata (2.2 kB)\n",
      "Collecting pyperclip (from mouseinfo->pyautogui)\n",
      "  Downloading pyperclip-1.8.2.tar.gz (20 kB)\n",
      "  Installing build dependencies: started\n",
      "  Installing build dependencies: finished with status 'done'\n",
      "  Getting requirements to build wheel: started\n",
      "  Getting requirements to build wheel: finished with status 'done'\n",
      "  Installing backend dependencies: started\n",
      "  Installing backend dependencies: finished with status 'done'\n",
      "  Preparing metadata (pyproject.toml): started\n",
      "  Preparing metadata (pyproject.toml): finished with status 'done'\n",
      "Using cached yfinance-0.2.40-py2.py3-none-any.whl (73 kB)\n",
      "Downloading beautifulsoup4-4.12.3-py3-none-any.whl (147 kB)\n",
      "   -------------------------------------- 147.9/147.9 kB 678.3 kB/s eta 0:00:00\n",
      "Downloading frozendict-2.4.4-cp37-cp37m-win_amd64.whl (37 kB)\n",
      "Downloading html5lib-1.1-py2.py3-none-any.whl (112 kB)\n",
      "   -------------------------------------- 112.2/112.2 kB 465.4 kB/s eta 0:00:00\n",
      "Downloading lxml-5.2.2-cp37-cp37m-win_amd64.whl (3.8 MB)\n",
      "   ---------------------------------------- 3.8/3.8 MB 2.0 MB/s eta 0:00:00\n",
      "Downloading multitasking-0.0.11-py3-none-any.whl (8.5 kB)\n",
      "Downloading numpy-1.21.6-cp37-cp37m-win_amd64.whl (14.0 MB)\n",
      "   ---------------------------------------- 14.0/14.0 MB 3.5 MB/s eta 0:00:00\n",
      "Downloading pandas-1.3.5-cp37-cp37m-win_amd64.whl (10.0 MB)\n",
      "   ---------------------------------------- 10.0/10.0 MB 3.1 MB/s eta 0:00:00\n",
      "Downloading platformdirs-4.0.0-py3-none-any.whl (17 kB)\n",
      "Downloading pytz-2024.1-py2.py3-none-any.whl (505 kB)\n",
      "   ---------------------------------------- 505.5/505.5 kB 2.3 MB/s eta 0:00:00\n",
      "Downloading requests-2.31.0-py3-none-any.whl (62 kB)\n",
      "   ---------------------------------------- 62.6/62.6 kB 1.6 MB/s eta 0:00:00\n",
      "Downloading certifi-2024.6.2-py3-none-any.whl (164 kB)\n",
      "   ---------------------------------------- 164.4/164.4 kB 2.4 MB/s eta 0:00:00\n",
      "Downloading charset_normalizer-3.3.2-cp37-cp37m-win_amd64.whl (98 kB)\n",
      "   ---------------------------------------- 98.1/98.1 kB 1.9 MB/s eta 0:00:00\n",
      "Downloading idna-3.7-py3-none-any.whl (66 kB)\n",
      "   ---------------------------------------- 66.8/66.8 kB 1.8 MB/s eta 0:00:00\n",
      "Downloading Pillow-9.5.0-cp37-cp37m-win_amd64.whl (2.5 MB)\n",
      "   ---------------------------------------- 2.5/2.5 MB 2.2 MB/s eta 0:00:00\n",
      "Downloading soupsieve-2.4.1-py3-none-any.whl (36 kB)\n",
      "Downloading typing_extensions-4.7.1-py3-none-any.whl (33 kB)\n",
      "Downloading urllib3-2.0.7-py3-none-any.whl (124 kB)\n",
      "   ---------------------------------------- 124.2/124.2 kB 7.1 MB/s eta 0:00:00\n",
      "Downloading webencodings-0.5.1-py2.py3-none-any.whl (11 kB)\n",
      "Building wheels for collected packages: pygetwindow, pytweening, mouseinfo, pyperclip, pyrect\n",
      "  Building wheel for pygetwindow (pyproject.toml): started\n",
      "  Building wheel for pygetwindow (pyproject.toml): finished with status 'done'\n",
      "  Created wheel for pygetwindow: filename=PyGetWindow-0.0.9-py3-none-any.whl size=11080 sha256=6ccfeefa8e61948e57ed9f466bb9a3ef0e0b3c855de6fda45091ddb8714e37f6\n",
      "  Stored in directory: c:\\users\\aline moura\\appdata\\local\\pip\\cache\\wheels\\91\\7e\\35\\62d9062a06cfc46fea39e26860253da36f258b3f3fd96c91c3\n",
      "  Building wheel for pytweening (pyproject.toml): started\n",
      "  Building wheel for pytweening (pyproject.toml): finished with status 'done'\n",
      "  Created wheel for pytweening: filename=pytweening-1.2.0-py3-none-any.whl size=8031 sha256=8940d08ddf08fe9811ec1dbdc09bd60fcd7e300bb661bc6e6207f1396d56adcf\n",
      "  Stored in directory: c:\\users\\aline moura\\appdata\\local\\pip\\cache\\wheels\\9b\\f6\\cc\\79ee5a508c9438397ef23111f30241ab0749ef93aebb077761\n",
      "  Building wheel for mouseinfo (pyproject.toml): started\n",
      "  Building wheel for mouseinfo (pyproject.toml): finished with status 'done'\n",
      "  Created wheel for mouseinfo: filename=MouseInfo-0.1.3-py3-none-any.whl size=10904 sha256=1b9fbdd798b9e8fc7ef7c9cfac39d50be792f9fbc5b66a9e567facf9eb6b8fa8\n",
      "  Stored in directory: c:\\users\\aline moura\\appdata\\local\\pip\\cache\\wheels\\43\\9a\\7f\\373736bf37b94b358be41fb2f317a0f9940a1dcb7a733e1707\n",
      "  Building wheel for pyperclip (pyproject.toml): started\n",
      "  Building wheel for pyperclip (pyproject.toml): finished with status 'done'\n",
      "  Created wheel for pyperclip: filename=pyperclip-1.8.2-py3-none-any.whl size=11136 sha256=7e2f07523cbe6c63ea6ec56b08cbdffc504f9243283c6d55b6c68a61e6d1a8ec\n",
      "  Stored in directory: c:\\users\\aline moura\\appdata\\local\\pip\\cache\\wheels\\9f\\18\\84\\8f69f8b08169c7bae2dde6bd7daf0c19fca8c8e500ee620a28\n",
      "  Building wheel for pyrect (pyproject.toml): started\n",
      "  Building wheel for pyrect (pyproject.toml): finished with status 'done'\n",
      "  Created wheel for pyrect: filename=PyRect-0.2.0-py2.py3-none-any.whl size=11205 sha256=edd99bbd5c1257813430e1e7dabd27faef37165df0f2958c421eee79f59957ff\n",
      "  Stored in directory: c:\\users\\aline moura\\appdata\\local\\pip\\cache\\wheels\\a8\\c4\\b9\\73048d5fa590952161184f5367220620d40958f3c0b8e8c03d\n",
      "Successfully built pygetwindow pytweening mouseinfo pyperclip pyrect\n",
      "Installing collected packages: webencodings, pytz, pytweening, pyrect, pyperclip, pymsgbox, peewee, multitasking, urllib3, typing-extensions, soupsieve, pygetwindow, Pillow, numpy, lxml, idna, html5lib, frozendict, charset-normalizer, certifi, requests, pyscreeze, platformdirs, pandas, mouseinfo, beautifulsoup4, yfinance, pyautogui\n",
      "Successfully installed Pillow-9.5.0 beautifulsoup4-4.12.3 certifi-2024.6.2 charset-normalizer-3.3.2 frozendict-2.4.4 html5lib-1.1 idna-3.7 lxml-5.2.2 mouseinfo-0.1.3 multitasking-0.0.11 numpy-1.21.6 pandas-1.3.5 peewee-3.17.5 platformdirs-4.0.0 pyautogui-0.9.54 pygetwindow-0.0.9 pymsgbox-1.0.9 pyperclip-1.8.2 pyrect-0.2.0 pyscreeze-0.1.30 pytweening-1.2.0 pytz-2024.1 requests-2.31.0 soupsieve-2.4.1 typing-extensions-4.7.1 urllib3-2.0.7 webencodings-0.5.1 yfinance-0.2.40\n"
     ]
    }
   ],
   "source": [
    "%pip install yfinance pyautogui"
   ]
  },
  {
   "cell_type": "markdown",
   "metadata": {},
   "source": [
    "- Buscar as informações automaticamente\n",
    "    - Saber de qual ação retiraremos os dados\n",
    "    - Pegar esses dados\n",
    "        - Apenas os dados de fechamento\n"
   ]
  },
  {
   "cell_type": "code",
   "execution_count": 2,
   "metadata": {},
   "outputs": [],
   "source": [
    "import yfinance as yf"
   ]
  },
  {
   "cell_type": "code",
   "execution_count": 3,
   "metadata": {},
   "outputs": [
    {
     "data": {
      "text/plain": [
       "Date\n",
       "2023-01-02 00:00:00-03:00    16.502495\n",
       "2023-01-03 00:00:00-03:00    16.084892\n",
       "2023-01-04 00:00:00-03:00    16.596096\n",
       "2023-01-05 00:00:00-03:00    17.193699\n",
       "2023-01-06 00:00:00-03:00    17.092897\n",
       "                               ...    \n",
       "2023-12-21 00:00:00-03:00    33.925335\n",
       "2023-12-22 00:00:00-03:00    34.251629\n",
       "2023-12-26 00:00:00-03:00    34.801666\n",
       "2023-12-27 00:00:00-03:00    34.829636\n",
       "2023-12-28 00:00:00-03:00    34.717762\n",
       "Name: Close, Length: 248, dtype: float64"
      ]
     },
     "execution_count": 3,
     "metadata": {},
     "output_type": "execute_result"
    }
   ],
   "source": [
    "codigo = input('Digite o código: ')\n",
    "dados = yf.Ticker(codigo).history(start='2023-01-01', end='2023-12-31')\n",
    "fechamento = dados.Close\n",
    "fechamento"
   ]
  },
  {
   "cell_type": "markdown",
   "metadata": {},
   "source": [
    "- Criar as ações solicitadas\n",
    "    - Cotação máxima\n",
    "    - Cotação mínima\n",
    "    - Valor médio"
   ]
  },
  {
   "cell_type": "code",
   "execution_count": 4,
   "metadata": {},
   "outputs": [
    {
     "name": "stdout",
     "output_type": "stream",
     "text": [
      "34.83\n",
      "16.08\n",
      "24.86\n"
     ]
    }
   ],
   "source": [
    "maxima = round(fechamento.max(), 2)\n",
    "minima = round(fechamento.min(), 2)\n",
    "valor_medio = round(fechamento.mean(), 2)\n",
    "\n",
    "print(maxima)\n",
    "print(minima)\n",
    "print(valor_medio)"
   ]
  },
  {
   "cell_type": "markdown",
   "metadata": {},
   "source": [
    "#### Enviar o e-mail automaticamente\n",
    "- abrir o navegador e ir para o gmail\n",
    "- clicar no botão Escrever\n",
    "- Digitar o email do destinatário e apertar TAB\n",
    "- Digitar o assunto e apertar TAB novamente\n",
    "- Digitar a mensagem\n",
    "- Clicar no botão Enviar\n",
    "\n",
    "Bibliotecas: `PyAutoGUI`, `pyperclip` e `webbrowser`"
   ]
  },
  {
   "cell_type": "code",
   "execution_count": 5,
   "metadata": {},
   "outputs": [],
   "source": [
    "import pyautogui as gui\n",
    "import pyperclip as clip\n",
    "import webbrowser\n",
    "from time import sleep"
   ]
  },
  {
   "cell_type": "code",
   "execution_count": 12,
   "metadata": {},
   "outputs": [],
   "source": [
    "destinatario = 'yurifs9118@gmail.com'\n",
    "assunto = 'Análises do Projeto 2023'\n",
    "mensagem = f'''\n",
    "Prezado gestor,\n",
    "\n",
    "Seguem as análises solicitadas da ação {codigo}:\n",
    "\n",
    "Cotação máxima: R${maxima}\n",
    "Cotação mínima: R${minima}\n",
    "Valor médio: R${valor_medio}\n",
    "\n",
    "Qualquer dúvida, estou a disposição!\n",
    "\n",
    "Atte.\n",
    "'''\n",
    "\n",
    "gui.PAUSE = 3\n",
    "\n",
    "webbrowser.open('www.gmail.com')\n",
    "sleep(4)\n",
    "\n",
    "gui.click(x=79, y=178)\n",
    "clip.copy(destinatario)\n",
    "gui.hotkey('ctrl', 'v')\n",
    "gui.hotkey('tab')\n",
    "clip.copy(assunto)\n",
    "gui.hotkey('ctrl', 'v')\n",
    "gui.hotkey('tab')\n",
    "clip.copy(mensagem)\n",
    "gui.hotkey('ctrl', 'v')\n",
    "gui.click(x=849, y=697)"
   ]
  },
  {
   "cell_type": "markdown",
   "metadata": {},
   "source": [
    "### Código auxiliar para pegar a posição do mouse"
   ]
  },
  {
   "cell_type": "code",
   "execution_count": 11,
   "metadata": {},
   "outputs": [
    {
     "data": {
      "text/plain": [
       "Point(x=849, y=697)"
      ]
     },
     "execution_count": 11,
     "metadata": {},
     "output_type": "execute_result"
    }
   ],
   "source": [
    "sleep(3)\n",
    "gui.position()"
   ]
  }
 ],
 "metadata": {
  "kernelspec": {
   "display_name": ".venv",
   "language": "python",
   "name": "python3"
  },
  "language_info": {
   "codemirror_mode": {
    "name": "ipython",
    "version": 3
   },
   "file_extension": ".py",
   "mimetype": "text/x-python",
   "name": "python",
   "nbconvert_exporter": "python",
   "pygments_lexer": "ipython3",
   "version": "3.7.9"
  }
 },
 "nbformat": 4,
 "nbformat_minor": 2
}
